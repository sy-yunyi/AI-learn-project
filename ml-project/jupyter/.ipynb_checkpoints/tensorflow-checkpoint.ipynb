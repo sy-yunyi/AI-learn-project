{
 "cells": [
  {
   "cell_type": "markdown",
   "metadata": {},
   "source": [
    "## 导入相关包"
   ]
  },
  {
   "cell_type": "code",
   "execution_count": 21,
   "metadata": {},
   "outputs": [],
   "source": [
    "import tensorflow as tf\n",
    "import numpy as np\n",
    "import matplotlib.pyplot as plt"
   ]
  },
  {
   "cell_type": "markdown",
   "metadata": {},
   "source": [
    "# 一、基础"
   ]
  },
  {
   "cell_type": "markdown",
   "metadata": {},
   "source": [
    "## 1、张量  \n",
    "简单讲，张量就是对标量矢量以及更高维度变量的统称，是用一种统一的方式来处理多线性映射。  \n",
    "一维数组称为矢量，二维方阵称为二阶张量，3维方阵称为三阶张量"
   ]
  },
  {
   "cell_type": "markdown",
   "metadata": {},
   "source": [
    "### 1.1创建张量"
   ]
  },
  {
   "cell_type": "markdown",
   "metadata": {},
   "source": [
    "***补充  \n",
    "tensorflow中以数据流图为基础，所以在进行操作时要首先创建图的session，具体后面会讲  \n",
    "并且一般是使用上下文管理器--with,防忘记关闭session，浪费资源***"
   ]
  },
  {
   "cell_type": "markdown",
   "metadata": {},
   "source": [
    "#### 1.1.1 创建制定维度的零向量"
   ]
  },
  {
   "cell_type": "code",
   "execution_count": 22,
   "metadata": {},
   "outputs": [
    {
     "name": "stdout",
     "output_type": "stream",
     "text": [
      "[[0. 0. 0.]\n",
      " [0. 0. 0.]]\n"
     ]
    }
   ],
   "source": [
    "with tf.Session() as sess:\n",
    "    zero_tensor = tf.zeros((2,3))\n",
    "    print(sess.run(zero_tensor))    # sess.run() -- 在图中执行某个操作：获取变量的值，进行某个运算，更改变量的值，"
   ]
  },
  {
   "cell_type": "markdown",
   "metadata": {},
   "source": [
    "#### 1.1.2 创建指定维度的全1张量"
   ]
  },
  {
   "cell_type": "code",
   "execution_count": 23,
   "metadata": {},
   "outputs": [
    {
     "name": "stdout",
     "output_type": "stream",
     "text": [
      "[[1. 1. 1.]\n",
      " [1. 1. 1.]]\n"
     ]
    }
   ],
   "source": [
    "with tf.Session() as sess:\n",
    "    ones_tsr = tf.ones([2,3])\n",
    "    print(ones_tsr.eval())         # 获取某个数据的值，可以直接用sess.run()，也可以用这种方法，XX.eval()   "
   ]
  },
  {
   "cell_type": "markdown",
   "metadata": {},
   "source": [
    "#### 1.1.3 创建使用指定数字填充指定纬度的张量"
   ]
  },
  {
   "cell_type": "code",
   "execution_count": 24,
   "metadata": {},
   "outputs": [
    {
     "name": "stdout",
     "output_type": "stream",
     "text": [
      "[[6 6 6 6]\n",
      " [6 6 6 6]\n",
      " [6 6 6 6]]\n"
     ]
    }
   ],
   "source": [
    "with tf.Session() as sess:\n",
    "    fill_tsr = tf.fill((3,4),6)     # 这里指定纬度，使用[]和（）都可以   \n",
    "    print(sess.run(fill_tsr))"
   ]
  },
  {
   "cell_type": "markdown",
   "metadata": {},
   "source": [
    "#### 1.1.4 使用已经存在常数张量创建张量"
   ]
  },
  {
   "cell_type": "code",
   "execution_count": 25,
   "metadata": {},
   "outputs": [
    {
     "name": "stdout",
     "output_type": "stream",
     "text": [
      "[[2 3]\n",
      " [5 6]\n",
      " [6 7]]\n"
     ]
    }
   ],
   "source": [
    "with tf.Session() as sess:\n",
    "    constant_tsr = tf.constant([[2,3],[5,6],[6,7]])\n",
    "    print(constant_tsr.eval())"
   ]
  },
  {
   "cell_type": "markdown",
   "metadata": {},
   "source": [
    "#### 1.1.5 创建相同纬度张量"
   ]
  },
  {
   "cell_type": "code",
   "execution_count": 26,
   "metadata": {},
   "outputs": [
    {
     "name": "stdout",
     "output_type": "stream",
     "text": [
      "[[0 0]\n",
      " [0 0]\n",
      " [0 0]]\n",
      "[[1 1]\n",
      " [1 1]\n",
      " [1 1]]\n"
     ]
    }
   ],
   "source": [
    "with tf.Session() as sess:\n",
    "    zeros_tsr = tf.zeros_like(constant_tsr)     # 创建一个全0 的与contant_tsr相同维度的张量\n",
    "    ones_tsr = tf.ones_like(constant_tsr)       # 创建一个全1 的与contant_tsr相同维度的张量\n",
    "    print(sess.run(zeros_tsr))\n",
    "    print(sess.run(ones_tsr))"
   ]
  },
  {
   "cell_type": "markdown",
   "metadata": {},
   "source": [
    "#### 1.1.6 创建指定数据间隔的张量  \n",
    " - linspace()包含两个端点 且端点值只支持浮点型，range()不含右端点"
   ]
  },
  {
   "cell_type": "code",
   "execution_count": 27,
   "metadata": {},
   "outputs": [
    {
     "name": "stdout",
     "output_type": "stream",
     "text": [
      "[0.  0.5 1. ]\n",
      "[ 6  9 12]\n"
     ]
    }
   ],
   "source": [
    "with tf.Session() as sess:\n",
    "    linear_tsr = tf.linspace(start=0.,stop=1.,num = 3,name= 'linear_tsr')     #在tensorflow中创建变量，张量，占位等等\n",
    "    print(sess.run(linear_tsr))                                               #最好赋上name属性，在后期查看数据流图有大用\n",
    "    integer_seq_tsr = tf.range(start = 6,limit=15,delta = 3,name='integer_seq_tsr')    \n",
    "    print(sess.run(integer_seq_tsr))"
   ]
  },
  {
   "cell_type": "markdown",
   "metadata": {},
   "source": [
    "#### 1.1.7 创建随机数字填充的张量"
   ]
  },
  {
   "cell_type": "code",
   "execution_count": 28,
   "metadata": {},
   "outputs": [
    {
     "name": "stdout",
     "output_type": "stream",
     "text": [
      "random_uniform : \n",
      " [[1.630053  1.644027  1.0098888]\n",
      " [1.750574  2.853107  2.0632257]\n",
      " [2.6275437 2.1357298 2.2104924]]\n",
      "random_normal :\n",
      " [[-0.66626203 -0.80926716  2.23449   ]\n",
      " [ 0.15332676 -0.21148936 -0.2898067 ]\n",
      " [ 2.1210577  -0.4612942   0.07566451]]\n",
      "truncated_normal : \n",
      " [[ 1.3885586   0.36248916  0.56881547]\n",
      " [-1.0164601  -1.7508122  -0.09763764]\n",
      " [ 0.9004249   0.0537806  -0.5208297 ]]\n"
     ]
    }
   ],
   "source": [
    "with tf.Session() as sess:\n",
    "    #用random_uniform()生成均匀分布随机数\n",
    "    randunif_tsr = tf.random_uniform([3,3],minval = 1,maxval = 4 ,name='randunif_tsr')\n",
    "     #用random_normal()生成正太分布随机数 mean:平均值，stddev:标准差\n",
    "    randnorm_tsr = tf.random_normal([3,3],mean = 0.0,stddev=1.0,name='randnorm_tsr')\n",
    "       #truncated_normal()生成指定边界的正态分布的随机数  边界：期望到两个标准差之间的区间\n",
    "    runcnorm_tsr = tf.truncated_normal([3,3],mean=0.0,stddev=1.0,name='runcnorm_tsr')\n",
    "    print('random_uniform : \\n',randunif_tsr.eval())\n",
    "    print('random_normal :\\n',randnorm_tsr.eval())\n",
    "    print('truncated_normal : \\n',runcnorm_tsr.eval())"
   ]
  },
  {
   "cell_type": "markdown",
   "metadata": {},
   "source": [
    "#### 1.1.8 获得一个失序的张量  \n",
    " - 仅仅是对最低纬度的顺序进行乱序重排，例如一个一维，则是对里面元素的重排，如果是二维，则是对行元素的重排"
   ]
  },
  {
   "cell_type": "code",
   "execution_count": 29,
   "metadata": {},
   "outputs": [
    {
     "name": "stdout",
     "output_type": "stream",
     "text": [
      "[[ 2  3  4  9]\n",
      " [ 5  6  7  8]\n",
      " [11 12 13 14]]\n",
      "多维原始：\n",
      " [[ 2  3  4  9]\n",
      " [ 5  6  7  8]\n",
      " [11 12 13 14]]\n",
      "多维打乱：\n",
      " [[ 2  3  4  9]\n",
      " [11 12 13 14]\n",
      " [ 5  6  7  8]]\n",
      "一维原始： [1 2 3 4 5]\n",
      "一维打乱： [2 1 4 5 3]\n"
     ]
    }
   ],
   "source": [
    "with tf.Session() as sess:\n",
    "    demo1_tsr = tf.constant([1,2,3,4,5])\n",
    "    demo_tsr = tf.constant([[2,3,4,9],[5,6,7,8],[11,12,13,14]])       # 生成一个测试张量\n",
    "    print(sess.run(demo_tsr))\n",
    "    shuffled_output = tf.random_shuffle(demo_tsr)                     # 失序\n",
    "    shuffled1_output = tf.random_shuffle(demo1_tsr)\n",
    "    print('多维原始：\\n',sess.run(demo_tsr))\n",
    "    print('多维打乱：\\n',sess.run(shuffled_output))\n",
    "    print('一维原始：',sess.run(demo1_tsr))\n",
    "    print('一维打乱：',sess.run(shuffled1_output))"
   ]
  },
  {
   "cell_type": "markdown",
   "metadata": {},
   "source": [
    "#### 1.1.9 随机裁剪指定纬度的元素"
   ]
  },
  {
   "cell_type": "code",
   "execution_count": 30,
   "metadata": {},
   "outputs": [
    {
     "name": "stdout",
     "output_type": "stream",
     "text": [
      "[[ 0  1  2  3]\n",
      " [ 4  5  6  7]\n",
      " [ 8  9 10 11]]\n",
      "[[ 5  6]\n",
      " [ 9 10]]\n"
     ]
    }
   ],
   "source": [
    "with tf.Session() as sess:\n",
    "    demo_tsr = tf.constant(np.arange(12).reshape([3,4]))         # 生成一个测试张量\n",
    "    croped_output = tf.random_crop(demo_tsr,[2,2])              # 裁剪\n",
    "    print(sess.run(demo_tsr))\n",
    "    print(sess.run(croped_output))"
   ]
  },
  {
   "cell_type": "markdown",
   "metadata": {},
   "source": [
    "### 1.2 转化为张量"
   ]
  },
  {
   "cell_type": "markdown",
   "metadata": {},
   "source": [
    "#### 1.2.1 numpy数组转化为张量  \n",
    "- 除了可以在创建张量时用numpy数组直接赋值，还可以使用convert_to_tensor,将numpy数组转化为张量  \n",
    "- 列表也是可以转化的"
   ]
  },
  {
   "cell_type": "code",
   "execution_count": 31,
   "metadata": {},
   "outputs": [
    {
     "name": "stdout",
     "output_type": "stream",
     "text": [
      "<class 'numpy.ndarray'>\n",
      "<class 'tensorflow.python.framework.ops.Tensor'>\n"
     ]
    }
   ],
   "source": [
    "with tf.Session() as sess:\n",
    "    arr_np = np.arange(12).reshape((3,4))            #  创建一个numpy数组\n",
    "    print(type(arr_np))\n",
    "    arr_tsr = tf.convert_to_tensor(arr_np)\n",
    "    print(type(arr_tsr))"
   ]
  },
  {
   "cell_type": "markdown",
   "metadata": {},
   "source": [
    "## 2、tensorflow 基本概念"
   ]
  },
  {
   "cell_type": "markdown",
   "metadata": {},
   "source": [
    "### 2.1 变量 (Variable)\n",
    "- 创建Variable，需将一个tensor传递给Variable()构造函数\n",
    "- 需要指定tensor的shape，最好为name 属性赋上值"
   ]
  },
  {
   "cell_type": "code",
   "execution_count": 32,
   "metadata": {},
   "outputs": [
    {
     "name": "stdout",
     "output_type": "stream",
     "text": [
      "[[0. 0. 0.]\n",
      " [0. 0. 0.]\n",
      " [0. 0. 0.]]\n"
     ]
    }
   ],
   "source": [
    "with tf.Session() as sess:\n",
    "    demo_variable = tf.Variable(tf.zeros([3,3]),name='demo')\n",
    "    #sess.run(demo_variable.initializer)      # 初始化变量，这是初始化这一个变量，\n",
    "    sess.run(tf.global_variables_initializer())    #还可以一次性初始化全部变量\n",
    "    print(sess.run(demo_variable))"
   ]
  },
  {
   "cell_type": "markdown",
   "metadata": {},
   "source": [
    "- 变量赋值  \n",
    "tensorflow中使用assign为变量赋值\n",
    "       "
   ]
  },
  {
   "cell_type": "code",
   "execution_count": 33,
   "metadata": {},
   "outputs": [
    {
     "name": "stdout",
     "output_type": "stream",
     "text": [
      "0.51038164\n",
      "4.0\n",
      "4.0\n"
     ]
    }
   ],
   "source": [
    "with tf.Session() as sess:\n",
    "    demo_variable = tf.Variable(tf.random_normal(shape=[]),dtype=tf.float32,name = 'demo_variable')  # 创建一个变量，随机为其赋值\n",
    "    sess.run(tf.global_variables_initializer())   #初始化变量\n",
    "    print(sess.run(demo_variable))\n",
    "    demo_variable = demo_variable.assign(4)    # 为变量赋值\n",
    "    print(demo_variable.eval())\n",
    "    sess.run(demo_variable)\n",
    "    print(demo_variable.eval())"
   ]
  },
  {
   "cell_type": "markdown",
   "metadata": {},
   "source": [
    "### 2.2 占位 （paceholder）  \n",
    "- 数据的入口  \n",
    "- 需要指定数据类型和数据的结构\n",
    "- session运行中为其提供数据，数据通过这里进入模型"
   ]
  },
  {
   "cell_type": "code",
   "execution_count": 34,
   "metadata": {},
   "outputs": [
    {
     "name": "stdout",
     "output_type": "stream",
     "text": [
      "[[0.6439089  0.5159655 ]\n",
      " [0.8216384  0.25590426]]\n"
     ]
    }
   ],
   "source": [
    "with tf.Session() as sess:\n",
    "  \n",
    "    demo_place = tf.placeholder(shape=[2,2],dtype=tf.float32,name='demo_place') # 这里需要指定shape和数据类型和name\n",
    "    y = tf.identity(demo_place)  #y = x\n",
    "    x_vals = np.random.rand(2,2)\n",
    "    print(sess.run(y,feed_dict={demo_place:x_vals}))"
   ]
  },
  {
   "cell_type": "markdown",
   "metadata": {},
   "source": [
    "### 2.3 图 （graph）  \n",
    "- tensorflow是基于数据流图的，tensorflow程序通常被组织成一个图的构建和图的执行阶段\n",
    "- 程序中存在一个默认图，也可以显示声明图"
   ]
  },
  {
   "cell_type": "code",
   "execution_count": 35,
   "metadata": {},
   "outputs": [
    {
     "name": "stdout",
     "output_type": "stream",
     "text": [
      "<tensorflow.python.framework.ops.Graph object at 0x000000001392BDA0>\n",
      "<tensorflow.python.framework.ops.Graph object at 0x000000001392BC50>\n",
      "<tensorflow.python.framework.ops.Graph object at 0x0000000012DEBB00>\n"
     ]
    }
   ],
   "source": [
    "g1 = tf.Graph()       # 显示创建一个图\n",
    "print(g1)    \n",
    "g2 = tf.Graph()      # 创建另一个图\n",
    "print(g2)\n",
    "print(tf.get_default_graph())    # 获取默认图，创建图，对默认图并没有影响\n"
   ]
  },
  {
   "cell_type": "markdown",
   "metadata": {},
   "source": [
    "- 操作  \n",
    "数据的操作被局限在一个图中"
   ]
  },
  {
   "cell_type": "code",
   "execution_count": 36,
   "metadata": {},
   "outputs": [
    {
     "name": "stdout",
     "output_type": "stream",
     "text": [
      "30\n",
      "30\n",
      "9\n",
      "9\n"
     ]
    }
   ],
   "source": [
    "# 定义一个图\n",
    "g1 = tf.Graph()\n",
    "g2 = tf.Graph()\n",
    "\n",
    "#将图1设置为默认图，则在下面的with语句块中，所做操作为在图1 中的操作\n",
    "with g1.as_default():\n",
    "    a = tf.constant(10,name='a')\n",
    "    b = tf.constant(20,name='b')\n",
    "    c = tf.add(a,b,name='c')\n",
    "# 图2\n",
    "with g2.as_default():\n",
    "    a = tf.constant(5,name='a')\n",
    "    b = tf.constant(4,name='b')\n",
    "    d = tf.add(a,b,name='d')\n",
    "# 为session指定图\n",
    "with tf.Session(graph=g1) as sess:\n",
    "    print(sess.run(c))\n",
    "    print(c.eval())\n",
    "\n",
    "with tf.Session(graph=g2) as sess:\n",
    "    print(sess.run(d))\n",
    "    print(d.eval())"
   ]
  },
  {
   "cell_type": "markdown",
   "metadata": {},
   "source": [
    "### 2.4 会话 （session）  \n",
    "- 会话持有并管理tensorflow程序运行时的所有资源，一切计算都是在会话的基础上\n",
    "- 会话管理两种方式：\n",
    "  -- 明确的调用会话的生成函数和关闭会话函数\n",
    "  -- 上下文管理机制自动释放所有资源\n"
   ]
  },
  {
   "cell_type": "code",
   "execution_count": 37,
   "metadata": {},
   "outputs": [],
   "source": [
    "#第一种\n",
    "sess = tf.Session()  # 创建一个会话\n",
    "\n",
    "#...执行操作  \n",
    "sess.close()       # 关闭会话"
   ]
  },
  {
   "cell_type": "code",
   "execution_count": 38,
   "metadata": {},
   "outputs": [],
   "source": [
    "# 第二种  不再需要关闭会话\n",
    "with tf.Session() as sess:\n",
    "    pass\n",
    "    #sess.run(...)"
   ]
  },
  {
   "cell_type": "markdown",
   "metadata": {},
   "source": [
    "**图（graph）与会话（session）的关系**\n",
    " - 一个图可以对应多个会话\n",
    " - 一个会话只能对应一个图\n"
   ]
  },
  {
   "cell_type": "code",
   "execution_count": 39,
   "metadata": {},
   "outputs": [
    {
     "name": "stdout",
     "output_type": "stream",
     "text": [
      "30\n",
      "30\n"
     ]
    }
   ],
   "source": [
    "# 定义两个图\n",
    "g1 = tf.Graph()\n",
    "g2 = tf.Graph()\n",
    "# 创建两个会话，并同时绑定到图1\n",
    "sess1 = tf.Session(graph=g1)\n",
    "sess2 = tf.Session(graph=g1)\n",
    "#将图1设置为默认图，则在下面的with语句块中，所做操作为在图1 中的操作\n",
    "with g1.as_default():\n",
    "    a = tf.constant(10,name='a')\n",
    "    b = tf.constant(20,name='b')\n",
    "    c = tf.add(a,b,name='c')\n",
    "# 图2\n",
    "with g2.as_default():\n",
    "    a = tf.constant(5,name='a')\n",
    "    b = tf.constant(4,name='b')\n",
    "    d = tf.add(a,b,name='d')\n",
    "print(sess1.run(c))\n",
    "print(sess2.run(c))"
   ]
  },
  {
   "cell_type": "markdown",
   "metadata": {},
   "source": [
    "## 3、矩阵操作"
   ]
  },
  {
   "cell_type": "markdown",
   "metadata": {},
   "source": [
    "### 3.1 创建矩阵"
   ]
  },
  {
   "cell_type": "code",
   "execution_count": 40,
   "metadata": {},
   "outputs": [
    {
     "name": "stdout",
     "output_type": "stream",
     "text": [
      "[[1. 0. 0.]\n",
      " [0. 1. 0.]\n",
      " [0. 0. 1.]]\n",
      "[[ 1.  2.  3.]\n",
      " [-3. -7. -1.]\n",
      " [ 0.  5. -2.]]\n",
      "[[0.47172332 0.6188855 ]\n",
      " [0.79880166 0.4358387 ]\n",
      " [0.02820849 0.46278453]]\n",
      "[[0.0680387  0.8683826 ]\n",
      " [0.10969341 0.7641156 ]\n",
      " [0.57579565 0.7530168 ]]\n"
     ]
    }
   ],
   "source": [
    "with tf.Session() as sess:\n",
    "    identity_matrix = tf.diag([1.0,1.0,1.0])   #创建对角阵\n",
    "    A = tf.fill([2,3],5.0)\n",
    "    B = tf.random_uniform([3,2])\n",
    "    C = tf.convert_to_tensor(np.array([[1.,2.,3.],[-3.,-7.,-1.],[0.,5.,-2.]]))\n",
    "    print(sess.run(identity_matrix))\n",
    "    print(sess.run(C))\n",
    "    print(sess.run(B))\n",
    "    print(sess.run(B))    # 注意这里两次sess.run(B)获得结果是不同的。"
   ]
  },
  {
   "cell_type": "markdown",
   "metadata": {},
   "source": [
    "### 3.2 矩阵加减法"
   ]
  },
  {
   "cell_type": "code",
   "execution_count": 41,
   "metadata": {},
   "outputs": [
    {
     "name": "stdout",
     "output_type": "stream",
     "text": [
      "[[5.157433  5.6242585]\n",
      " [5.70881   5.1139803]\n",
      " [5.084477  5.8555675]]\n",
      "[[5.599672 5.731597]\n",
      " [5.795618 5.662176]\n",
      " [5.996977 5.301171]]\n",
      "[[4.3347025 4.323716 ]\n",
      " [4.6334505 4.7912607]\n",
      " [4.868044  4.2808423]]\n",
      "[[4.210379  4.2108607]\n",
      " [4.022262  4.2985935]\n",
      " [4.761505  4.754701 ]]\n"
     ]
    }
   ],
   "source": [
    "with tf.Session() as sess:\n",
    "    A = tf.fill([3,2],5.0)\n",
    "    B = tf.random_uniform([3,2])\n",
    "    C = tf.fill([2,3],2.)\n",
    "    print(sess.run(A+B))\n",
    "    print(sess.run(tf.add(A,B)))  # 矩阵加法\n",
    "    print(sess.run(tf.subtract(A,B)))    # 矩阵减法  \n",
    "    print(sess.run(A-B))      # 这里答案不同的原因是B 为随机矩阵。两次run（）获得不同的数据"
   ]
  },
  {
   "cell_type": "markdown",
   "metadata": {},
   "source": [
    "### 3.3 矩阵乘法"
   ]
  },
  {
   "cell_type": "code",
   "execution_count": 42,
   "metadata": {},
   "outputs": [
    {
     "name": "stdout",
     "output_type": "stream",
     "text": [
      "[[4. 4. 4.]\n",
      " [4. 4. 4.]]\n",
      "[[1.3876469 1.3876469 1.3876469]\n",
      " [2.1765416 2.1765416 2.1765416]\n",
      " [1.9479537 1.9479537 1.9479537]]\n"
     ]
    }
   ],
   "source": [
    "sess = tf.Session()\n",
    "A = tf.fill([3,2],5.0)\n",
    "B = tf.random_uniform([3,2])\n",
    "C = tf.fill([2,3],2.)\n",
    "print(sess.run(C*C))     # 两个矩阵对应元素相乘\n",
    "print(sess.run(tf.matmul(B,C)))   # 矩阵乘法"
   ]
  },
  {
   "cell_type": "markdown",
   "metadata": {},
   "source": [
    "### 3.4矩阵转置"
   ]
  },
  {
   "cell_type": "code",
   "execution_count": 43,
   "metadata": {},
   "outputs": [
    {
     "name": "stdout",
     "output_type": "stream",
     "text": [
      "[[5. 5.]\n",
      " [5. 5.]\n",
      " [5. 5.]]\n",
      "[[5. 5. 5.]\n",
      " [5. 5. 5.]]\n"
     ]
    }
   ],
   "source": [
    "print(sess.run(A))\n",
    "print(sess.run(tf.transpose(A)))"
   ]
  },
  {
   "cell_type": "markdown",
   "metadata": {},
   "source": [
    "### 3.5 计算矩阵的行列式"
   ]
  },
  {
   "cell_type": "code",
   "execution_count": 44,
   "metadata": {},
   "outputs": [
    {
     "name": "stdout",
     "output_type": "stream",
     "text": [
      "0.0\n"
     ]
    }
   ],
   "source": [
    "D = tf.matmul(B,C)\n",
    "print(sess.run(tf.matrix_determinant(D)))   #计算D的行列式"
   ]
  },
  {
   "cell_type": "markdown",
   "metadata": {},
   "source": [
    "### 3.6计算矩阵的逆"
   ]
  },
  {
   "cell_type": "code",
   "execution_count": 45,
   "metadata": {},
   "outputs": [
    {
     "name": "stdout",
     "output_type": "stream",
     "text": [
      "[[-0.5        -0.5        -0.5       ]\n",
      " [ 0.15789474  0.05263158  0.21052632]\n",
      " [ 0.39473684  0.13157895  0.02631579]]\n"
     ]
    }
   ],
   "source": [
    "E = tf.convert_to_tensor(np.array([[1.,2.,3.],[-3.,-7.,-1.],[0.,5.,-2.]]))\n",
    "print(sess.run(tf.matrix_inverse(E)))"
   ]
  },
  {
   "cell_type": "markdown",
   "metadata": {},
   "source": [
    "### 3.7 矩阵的特征值和特征向量"
   ]
  },
  {
   "cell_type": "code",
   "execution_count": 46,
   "metadata": {},
   "outputs": [
    {
     "name": "stdout",
     "output_type": "stream",
     "text": [
      "(array([-10.65907521,  -0.22750691,   2.88658212]), array([[ 0.21749542,  0.63250104, -0.74339638],\n",
      "       [ 0.84526515,  0.2587998 ,  0.46749277],\n",
      "       [-0.4880805 ,  0.73004459,  0.47834331]]))\n"
     ]
    }
   ],
   "source": [
    "print(sess.run(tf.self_adjoint_eig(E)))"
   ]
  },
  {
   "cell_type": "markdown",
   "metadata": {},
   "source": [
    "## 4、基本步骤"
   ]
  },
  {
   "cell_type": "markdown",
   "metadata": {},
   "source": [
    "- import or generate datasets  \n",
    "- transform and normalize data\n",
    "- partition datasets into train ,test , and validation sets\n",
    "- set algorithm parameters(hyperparameters)\n",
    "- initialize variables and placeholders\n",
    "- define the model structure\n",
    "- declare the loss functions\n",
    "- initialize and train the model\n",
    "- evaluate the model\n",
    "- tune hyperparameters\n",
    "- deploy/predict new outcomes"
   ]
  },
  {
   "cell_type": "markdown",
   "metadata": {},
   "source": [
    "## 5、tensorflow中的基本运算"
   ]
  },
  {
   "cell_type": "code",
   "execution_count": 47,
   "metadata": {},
   "outputs": [
    {
     "name": "stdout",
     "output_type": "stream",
     "text": [
      "0\n"
     ]
    }
   ],
   "source": [
    "print(sess.run(tf.div(3,4)))    # 除法 --取整"
   ]
  },
  {
   "cell_type": "code",
   "execution_count": 49,
   "metadata": {},
   "outputs": [
    {
     "name": "stdout",
     "output_type": "stream",
     "text": [
      "0.75\n"
     ]
    }
   ],
   "source": [
    "print(sess.run(tf.truediv(3,4)))    #  浮点除法"
   ]
  },
  {
   "cell_type": "code",
   "execution_count": 52,
   "metadata": {},
   "outputs": [
    {
     "name": "stdout",
     "output_type": "stream",
     "text": [
      "1.0\n"
     ]
    }
   ],
   "source": [
    "print(sess.run(tf.floordiv(4.0,3.0)))   # 除法，取整"
   ]
  },
  {
   "cell_type": "code",
   "execution_count": 54,
   "metadata": {},
   "outputs": [
    {
     "name": "stdout",
     "output_type": "stream",
     "text": [
      "2.0\n"
     ]
    }
   ],
   "source": [
    "print(sess.run(tf.mod(22.0,5.0)))   # 取余"
   ]
  },
  {
   "cell_type": "code",
   "execution_count": 56,
   "metadata": {},
   "outputs": [
    {
     "name": "stdout",
     "output_type": "stream",
     "text": [
      "[0. 0. 1.]\n"
     ]
    }
   ],
   "source": [
    "print(sess.run(tf.cross([1.0,0.0,0.0],[0.0,1.0,0.0])))    #向量积，向量叉乘"
   ]
  },
  {
   "cell_type": "code",
   "execution_count": 59,
   "metadata": {},
   "outputs": [
    {
     "name": "stdout",
     "output_type": "stream",
     "text": [
      "362\n"
     ]
    }
   ],
   "source": [
    "def custom_polynomial(value):\n",
    "    return (tf.subtract(3 * tf.square(value),value)+10)      # 3*x*x-x+10\n",
    "print(sess.run(custom_polynomial(11)))"
   ]
  },
  {
   "cell_type": "markdown",
   "metadata": {},
   "source": [
    "## 6、激活函数  \n",
    "- relu()\n",
    "- relu6()\n",
    "- sigmoid()\n",
    "- tanh()\n",
    "- softsigh()\n",
    "- softplus()\n",
    "- elu()  \n",
    "\n",
    "*** 激活函数的作用是能够给神经网络加入一些非线性因素，使得神经网络可以更好地解决较为复杂的问题。***"
   ]
  },
  {
   "cell_type": "markdown",
   "metadata": {},
   "source": [
    "#### relu():    f(x)=max(0,x)"
   ]
  },
  {
   "cell_type": "code",
   "execution_count": 76,
   "metadata": {},
   "outputs": [
    {
     "name": "stdout",
     "output_type": "stream",
     "text": [
      "[ 0.  3. 10.]\n"
     ]
    },
    {
     "data": {
      "image/png": "[encoded data removed]",
      "text/plain": [
       "<matplotlib.figure.Figure at 0x181ed2e8>"
      ]
     },
     "metadata": {},
     "output_type": "display_data"
    }
   ],
   "source": [
    "# relu : f(x)=max(0,x)\n",
    "print(sess.run(tf.nn.relu([-3.,3,10])))\n",
    "x = np.linspace(-10,10,100)\n",
    "y = [0 if x1<0 else x1 for x1 in x ]\n",
    "plt.plot(x,y)\n",
    "plt.show()"
   ]
  },
  {
   "cell_type": "markdown",
   "metadata": {},
   "source": [
    "#### relu6 : f(x)=min(max(0,6),x)   \n",
    "- 使数据位于0~6之间"
   ]
  },
  {
   "cell_type": "code",
   "execution_count": 78,
   "metadata": {},
   "outputs": [
    {
     "name": "stdout",
     "output_type": "stream",
     "text": [
      "[0. 3. 6.]\n"
     ]
    },
    {
     "data": {
      "image/png": "[encoded data removed]",
      "text/plain": [
       "<matplotlib.figure.Figure at 0x140b1d30>"
      ]
     },
     "metadata": {},
     "output_type": "display_data"
    }
   ],
   "source": [
    "# relu6 : f(x)=min(max(0,6),x) 将数据位于0~6之间\n",
    "print(sess.run(tf.nn.relu6([-3.,3.,10])))\n",
    "y = tf.nn.relu6(x)\n",
    "plt.plot(x,sess.run(y))\n",
    "plt.show()"
   ]
  },
  {
   "cell_type": "markdown",
   "metadata": {},
   "source": [
    "#### sigmoid():    f(x) = 1/(1+exp(-x))        \n",
    "- 通过sigmoid函数计算的函数值在0~1之间"
   ]
  },
  {
   "cell_type": "code",
   "execution_count": 82,
   "metadata": {},
   "outputs": [
    {
     "name": "stdout",
     "output_type": "stream",
     "text": [
      "[0.26894143 0.5        0.7310586 ]\n"
     ]
    },
    {
     "data": {
      "image/png": "[encoded data removed]",
      "text/plain": [
       "<matplotlib.figure.Figure at 0x184f3898>"
      ]
     },
     "metadata": {},
     "output_type": "display_data"
    }
   ],
   "source": [
    "# sigmoid():1/(1+exp(-x))   通过sigmoid函数计算的函数值在0~1之间\n",
    "print(sess.run(tf.nn.sigmoid([-1.,0.,1.])))\n",
    "y = tf.nn.sigmoid(x)\n",
    "plt.plot(x,sess.run(y))\n",
    "plt.show()"
   ]
  },
  {
   "cell_type": "markdown",
   "metadata": {},
   "source": [
    "#### tanh():  f(x) = (exp(x)-exp(-x))/(exp(x)+exp(-x))    \n",
    "- tanh函数的值在-1~1之间"
   ]
  },
  {
   "cell_type": "code",
   "execution_count": 96,
   "metadata": {},
   "outputs": [
    {
     "name": "stdout",
     "output_type": "stream",
     "text": [
      "[-0.7615942  0.         0.7615942]\n"
     ]
    },
    {
     "data": {
      "image/png": "[encoded data removed]",
      "text/plain": [
       "<matplotlib.figure.Figure at 0x274b45c0>"
      ]
     },
     "metadata": {},
     "output_type": "display_data"
    }
   ],
   "source": [
    "# tanh():(exp(x)-exp(-x))/(exp(x)+exp(-x))   tanh函数的值在-1~1之间\n",
    "print(sess.run(tf.nn.tanh([-1.,0.,1.])))\n",
    "y = tf.nn.tanh(x)\n",
    "plt.plot(x,sess.run(y))\n",
    "plt.show()"
   ]
  },
  {
   "cell_type": "markdown",
   "metadata": {},
   "source": [
    "#### softsigh():  softsign(a)=a/(1+|a|)   "
   ]
  },
  {
   "cell_type": "code",
   "execution_count": 95,
   "metadata": {},
   "outputs": [
    {
     "name": "stdout",
     "output_type": "stream",
     "text": [
      "[-0.5  0.   0.5]\n"
     ]
    },
    {
     "data": {
      "image/png": "[encoded data removed]",
      "text/plain": [
       "<matplotlib.figure.Figure at 0x272f5828>"
      ]
     },
     "metadata": {},
     "output_type": "display_data"
    }
   ],
   "source": [
    "# softsigh(): softsign(a)=a/(1+|a|)   \n",
    "print(sess.run(tf.nn.softsign([-1.,0.,1.])))\n",
    "y = tf.nn.softsign(x)\n",
    "plt.plot(x,sess.run(y))\n",
    "plt.show()"
   ]
  },
  {
   "cell_type": "markdown",
   "metadata": {},
   "source": [
    "#### softplus(): f(x)=ln(1+exp(x))  "
   ]
  },
  {
   "cell_type": "code",
   "execution_count": 90,
   "metadata": {},
   "outputs": [
    {
     "name": "stdout",
     "output_type": "stream",
     "text": [
      "[0.31326166 0.6931472  1.3132616 ]\n"
     ]
    },
    {
     "data": {
      "image/png": "[encoded data removed]",
      "text/plain": [
       "<matplotlib.figure.Figure at 0x27246208>"
      ]
     },
     "metadata": {},
     "output_type": "display_data"
    }
   ],
   "source": [
    "# softplus(): f(x)=ln(1+exp(x))  \n",
    "print(sess.run(tf.nn.softplus([-1.,0.,1])))\n",
    "y =tf.nn.softplus(x)\n",
    "plt.plot(x,sess.run(y))\n",
    "plt.show()"
   ]
  },
  {
   "cell_type": "markdown",
   "metadata": {},
   "source": [
    "#### elu():f(x)=a(exp(x)−1) if(x<0)  x if(0≤x)   "
   ]
  },
  {
   "cell_type": "code",
   "execution_count": 93,
   "metadata": {},
   "outputs": [
    {
     "name": "stdout",
     "output_type": "stream",
     "text": [
      "[-0.63212055  0.          1.        ]\n"
     ]
    },
    {
     "data": {
      "image/png": "[encoded data removed]",
      "text/plain": [
       "<matplotlib.figure.Figure at 0x2732ae80>"
      ]
     },
     "metadata": {},
     "output_type": "display_data"
    }
   ],
   "source": [
    "# elu():f(x)=a(exp(x)−1) if(x<0)  x if(0≤x)   \n",
    "print(sess.run(tf.nn.elu([-1.,0.,1.])))\n",
    "y = tf.nn.elu(x)\n",
    "plt.plot(x,sess.run(y))\n",
    "plt.show()"
   ]
  },
  {
   "cell_type": "markdown",
   "metadata": {},
   "source": [
    "## 7、损失函数（loss）  \n",
    "- 拟合问题  \n",
    "  -- 欧式距离  \n",
    "  -- 曼哈顿距离\n",
    "- 分类问题  \n",
    "  -- 交叉熵"
   ]
  },
  {
   "cell_type": "markdown",
   "metadata": {},
   "source": [
    "###  ● L2 norm loss (欧式距离）"
   ]
  },
  {
   "cell_type": "code",
   "execution_count": 139,
   "metadata": {},
   "outputs": [
    {
     "name": "stdout",
     "output_type": "stream",
     "text": [
      "[1.         0.60493827 0.308642   0.1111111  0.01234568 0.01234569\n",
      " 0.11111113 0.308642   0.60493827 1.        ]\n"
     ]
    }
   ],
   "source": [
    "x_vals = tf.linspace(-1.,1.,10)\n",
    "target = tf.constant(0.)\n",
    "l2_y_vals = tf.square(target - x_vals)\n",
    "l2_y_out = sess.run(l2_y_vals)\n",
    "print(l2_out)"
   ]
  },
  {
   "cell_type": "markdown",
   "metadata": {},
   "source": [
    "### ● L1 norm loss (曼哈顿距离）"
   ]
  },
  {
   "cell_type": "code",
   "execution_count": 109,
   "metadata": {},
   "outputs": [
    {
     "name": "stdout",
     "output_type": "stream",
     "text": [
      "[1.         0.7777778  0.5555556  0.3333333  0.1111111  0.11111116\n",
      " 0.33333337 0.5555556  0.7777778  1.        ]\n"
     ]
    }
   ],
   "source": [
    "l1_y_vals = tf.abs(target - x_vals)\n",
    "l1_y_out = sess.run(l1_y_vals)\n",
    "print(l1_y_out)"
   ]
  },
  {
   "cell_type": "markdown",
   "metadata": {},
   "source": [
    "### ● Pseudo-Huber loss  "
   ]
  },
  {
   "cell_type": "markdown",
   "metadata": {},
   "source": [
    " - 一个连续光滑逼近的胡贝尔损失函数"
   ]
  },
  {
   "cell_type": "markdown",
   "metadata": {},
   "source": [
    " - Huber Loss经常用于回归问题，相比与l2 loss,其对离群点（outliers)没有那么敏感"
   ]
  },
  {
   "cell_type": "code",
   "execution_count": 114,
   "metadata": {},
   "outputs": [
    {
     "name": "stdout",
     "output_type": "stream",
     "text": [
      "[0.1951941  0.14174223 0.08980358 0.04166666 0.00589484 0.00589485\n",
      " 0.04166667 0.08980358 0.14174224 0.1951941 ]\n",
      "[0.49509406 0.30066073 0.15384853 0.0554949  0.00617206 0.00617206\n",
      " 0.0554949  0.15384853 0.30066073 0.49509704]\n"
     ]
    }
   ],
   "source": [
    "delta1 = tf.constant(0.25)     # 参数1\n",
    "phuber1_y_vals = tf.multiply(tf.square(delta1),tf.sqrt(1.+tf.square((target - x_vals)/delta1))-1.)\n",
    "phuber1_y_out = sess.run(phuber1_y_vals)\n",
    "delta2 = tf.constant(5.)   #参数2\n",
    "phuber2_y_vals = tf.multiply(tf.square(delta2), tf.sqrt(1. + tf.square((target - x_vals)/delta2)) - 1.)\n",
    "phuber2_y_out = sess.run(phuber2_y_vals)\n",
    "print(phuber1_y_out)\n",
    "print(phuber2_y_out)"
   ]
  },
  {
   "cell_type": "markdown",
   "metadata": {},
   "source": [
    "### ● Hinge loss (合页损失)"
   ]
  },
  {
   "cell_type": "markdown",
   "metadata": {},
   "source": [
    "- 主要用于支持向量机，但也可以用于神经网络。  \n",
    "- 它的目的是计算两个目标类之间的损失，1和- 1"
   ]
  },
  {
   "cell_type": "code",
   "execution_count": 128,
   "metadata": {},
   "outputs": [
    {
     "name": "stdout",
     "output_type": "stream",
     "text": [
      "[4.         3.1111112  2.2222223  1.3333333  0.44444442 0.\n",
      " 0.         0.         0.         0.        ]\n"
     ]
    }
   ],
   "source": [
    "x_vals = tf.linspace(-3., 5., 10)\n",
    "target = tf.constant(1.)\n",
    "targets = tf.fill([10,], 1.)\n",
    "hinge_y_vals = tf.maximum(0., 1. - tf.multiply(target, x_vals))\n",
    "hinge_y_out = sess.run(hinge_y_vals)\n",
    "print(hinge_y_out)"
   ]
  },
  {
   "cell_type": "markdown",
   "metadata": {},
   "source": [
    "###  ● Cross-entropy loss(交叉熵损失/逻辑损失函数)"
   ]
  },
  {
   "cell_type": "markdown",
   "metadata": {},
   "source": [
    "- 用于测量实际类（0或1）到预测值之间的距离，这个值通常是在0到1之间的实数"
   ]
  },
  {
   "cell_type": "code",
   "execution_count": 129,
   "metadata": {},
   "outputs": [
    {
     "name": "stdout",
     "output_type": "stream",
     "text": [
      "[      nan       nan       nan       nan 0.5877866       nan       nan\n",
      "       nan       nan       nan]\n"
     ]
    }
   ],
   "source": [
    "xentropy_y_vals = - tf.multiply(target, tf.log(x_vals)) - tf.multiply((1. - target), tf.log(1. - x_vals))\n",
    "xentropy_y_out = sess.run(xentropy_y_vals)\n",
    "print(xentropy_y_out)"
   ]
  },
  {
   "cell_type": "markdown",
   "metadata": {},
   "source": [
    "### ● Sigmoid cross entropy loss"
   ]
  },
  {
   "cell_type": "markdown",
   "metadata": {},
   "source": [
    " - 与上面损失函数类似，只是使用了sigmoid函数"
   ]
  },
  {
   "cell_type": "code",
   "execution_count": 130,
   "metadata": {},
   "outputs": [
    {
     "name": "stdout",
     "output_type": "stream",
     "text": [
      "[ 4.3132615   3.424373    2.535484    1.646595    0.75770617 -0.13118294\n",
      " -1.0200717  -1.9089606  -2.7978494  -3.6867383 ]\n"
     ]
    }
   ],
   "source": [
    "xentropy_sigmoid_y_vals = tf.nn.sigmoid_cross_entropy_with_logits(labels = x_vals,logits = targets)\n",
    "xentropy_sigmoid_y_out = sess.run(xentropy_sigmoid_y_vals)\n",
    "print(xentropy_sigmoid_y_out)"
   ]
  },
  {
   "cell_type": "markdown",
   "metadata": {},
   "source": [
    "###  ● Weighted cross entropy loss"
   ]
  },
  {
   "cell_type": "markdown",
   "metadata": {},
   "source": [
    "- 加权版本的 sigmoid cross entropy loss"
   ]
  },
  {
   "cell_type": "code",
   "execution_count": 131,
   "metadata": {},
   "outputs": [
    {
     "name": "stdout",
     "output_type": "stream",
     "text": [
      "[ 4.7831545   3.755038    2.7269218   1.6988052   0.670689   -0.35742754\n",
      " -1.3855438  -2.41366    -3.4417763  -4.4698925 ]\n"
     ]
    }
   ],
   "source": [
    "weight = tf.constant(0.5)\n",
    "xentropy_weighted_y_vals = tf.nn.weighted_cross_entropy_with_logits(x_vals, targets, weight)\n",
    "xentropy_weighted_y_out = sess.run(xentropy_weighted_y_vals)\n",
    "print(xentropy_weighted_y_out)"
   ]
  },
  {
   "cell_type": "markdown",
   "metadata": {},
   "source": [
    "### ● Softmax cross-entropy loss"
   ]
  },
  {
   "cell_type": "markdown",
   "metadata": {},
   "source": [
    " - 用来测量损失时，只有一个目标类别，而不是多个。\n",
    " - 通过softmax函数的概率分布，计算损失函数一个真实的概率分布\n",
    " - 应用与多分类问题"
   ]
  },
  {
   "cell_type": "code",
   "execution_count": 133,
   "metadata": {},
   "outputs": [
    {
     "name": "stdout",
     "output_type": "stream",
     "text": [
      "[3.2568445]\n"
     ]
    }
   ],
   "source": [
    "unscaled_logits = tf.constant([[1., -3., 10.]])\n",
    "target_dist = tf.constant([[0.1, 0.02, 0.88]])\n",
    "softmax_xentropy = tf.nn.softmax_cross_entropy_with_logits(labels = unscaled_logits,logits = target_dist)\n",
    "print(sess.run(softmax_xentropy))"
   ]
  },
  {
   "cell_type": "markdown",
   "metadata": {},
   "source": [
    "### ● Sparse softmax cross-entropy loss"
   ]
  },
  {
   "cell_type": "markdown",
   "metadata": {},
   "source": [
    " - softmax 的两分类形式"
   ]
  },
  {
   "cell_type": "code",
   "execution_count": 136,
   "metadata": {},
   "outputs": [
    {
     "name": "stdout",
     "output_type": "stream",
     "text": [
      "[0.00012564]\n"
     ]
    }
   ],
   "source": [
    "unscaled_logits = tf.constant([[1., -3., 10.]])\n",
    "sparse_target_dist = tf.constant([2])\n",
    "sparse_xentropy = tf.nn.sparse_softmax_cross_entropy_with_logits(labels = sparse_target_dist, logits = unscaled_logits)\n",
    "print(sess.run(sparse_xentropy))"
   ]
  },
  {
   "cell_type": "markdown",
   "metadata": {},
   "source": [
    "### 绘制图像"
   ]
  },
  {
   "cell_type": "code",
   "execution_count": 140,
   "metadata": {},
   "outputs": [
    {
     "data": {
      "image/png": "[encoded data removed]",
      "text/plain": [
       "<matplotlib.figure.Figure at 0x27395b70>"
      ]
     },
     "metadata": {},
     "output_type": "display_data"
    }
   ],
   "source": [
    "x_array = sess.run(x_vals)\n",
    "plt.plot(x_array, l2_y_out, 'b-', label='L2 Loss')\n",
    "plt.plot(x_array, l1_y_out, 'r--', label='L1 Loss')\n",
    "plt.plot(x_array, phuber1_y_out, 'k-.', label='P-Huber Loss (0.25)')\n",
    "plt.plot(x_array, phuber2_y_out, 'g:', label='P-Huber Loss (5.0)')\n",
    "plt.ylim(-0.2, 0.4)\n",
    "plt.legend(loc='lower right', prop={'size': 11})\n",
    "plt.show()\n"
   ]
  },
  {
   "cell_type": "code",
   "execution_count": 143,
   "metadata": {},
   "outputs": [
    {
     "data": {
      "image/png": "[encoded data removed]",
      "text/plain": [
       "<matplotlib.figure.Figure at 0x27395dd8>"
      ]
     },
     "metadata": {},
     "output_type": "display_data"
    }
   ],
   "source": [
    "x_array = sess.run(x_vals)\n",
    "plt.plot(x_array, hinge_y_out, 'b-', label='Hinge Loss')\n",
    "plt.plot(x_array, xentropy_y_out, 'r--', label='Cross Entropy Loss')\n",
    "plt.plot(x_array, xentropy_sigmoid_y_out, 'k-.', label='Cross Entropy Sigmoid Loss')\n",
    "plt.plot(x_array, xentropy_weighted_y_out, 'g:', label='Weighted Cross Enropy Loss (x=0.5)')\n",
    "plt.ylim(-1.5, 3)\n",
    "plt.legend(loc='lower left', prop={'size': 11})\n",
    "plt.show()"
   ]
  },
  {
   "cell_type": "markdown",
   "metadata": {},
   "source": [
    "# 二、tensorflow 进阶"
   ]
  },
  {
   "cell_type": "code",
   "execution_count": null,
   "metadata": {},
   "outputs": [],
   "source": []
  }
 ],
 "metadata": {
  "kernelspec": {
   "display_name": "Python 3",
   "language": "python",
   "name": "python3"
  },
  "language_info": {
   "codemirror_mode": {
    "name": "ipython",
    "version": 3
   },
   "file_extension": ".py",
   "mimetype": "text/x-python",
   "name": "python",
   "nbconvert_exporter": "python",
   "pygments_lexer": "ipython3",
   "version": "3.6.4"
  }
 },
 "nbformat": 4,
 "nbformat_minor": 2
}
