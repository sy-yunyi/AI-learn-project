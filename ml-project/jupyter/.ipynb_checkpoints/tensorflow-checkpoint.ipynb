{
 "cells": [
  {
   "cell_type": "markdown",
   "metadata": {},
   "source": [
    "## 导入相关包"
   ]
  },
  {
   "cell_type": "code",
   "execution_count": 23,
   "metadata": {},
   "outputs": [],
   "source": [
    "import tensorflow as tf\n",
    "import numpy as np\n",
    "import matplotlib.pyplot as plt"
   ]
  },
  {
   "cell_type": "markdown",
   "metadata": {},
   "source": [
    "# 一、基础"
   ]
  },
  {
   "cell_type": "markdown",
   "metadata": {},
   "source": [
    "## 1、张量  \n",
    "简单讲，张量就是对标量矢量以及更高维度变量的统称，是用一种统一的方式来处理多线性映射。  \n",
    "一维数组称为矢量，二维方阵称为二阶张量，3维方阵称为三阶张量"
   ]
  },
  {
   "cell_type": "markdown",
   "metadata": {},
   "source": [
    "### 1.1创建张量"
   ]
  },
  {
   "cell_type": "markdown",
   "metadata": {},
   "source": [
    "***补充  \n",
    "tensorflow中以数据流图为基础，所以在进行操作时要首先创建图的session，具体后面会讲  \n",
    "并且一般是使用上下文管理器--with,防忘记关闭session，浪费资源***"
   ]
  },
  {
   "cell_type": "markdown",
   "metadata": {},
   "source": [
    "#### 1.1.1 创建制定维度的零向量"
   ]
  },
  {
   "cell_type": "code",
   "execution_count": 24,
   "metadata": {},
   "outputs": [
    {
     "name": "stdout",
     "output_type": "stream",
     "text": [
      "[[0. 0. 0.]\n",
      " [0. 0. 0.]]\n"
     ]
    }
   ],
   "source": [
    "with tf.Session() as sess:\n",
    "    zero_tensor = tf.zeros((2,3))\n",
    "    print(sess.run(zero_tensor))    # sess.run() -- 在图中执行某个操作：获取变量的值，进行某个运算，更改变量的值，"
   ]
  },
  {
   "cell_type": "markdown",
   "metadata": {},
   "source": [
    "#### 1.1.2 创建指定维度的全1张量"
   ]
  },
  {
   "cell_type": "code",
   "execution_count": 25,
   "metadata": {},
   "outputs": [
    {
     "name": "stdout",
     "output_type": "stream",
     "text": [
      "[[1. 1. 1.]\n",
      " [1. 1. 1.]]\n"
     ]
    }
   ],
   "source": [
    "with tf.Session() as sess:\n",
    "    ones_tsr = tf.ones([2,3])\n",
    "    print(ones_tsr.eval())         # 获取某个数据的值，可以直接用sess.run()，也可以用这种方法，XX.eval()   "
   ]
  },
  {
   "cell_type": "markdown",
   "metadata": {},
   "source": [
    "#### 1.1.3 创建使用指定数字填充指定纬度的张量"
   ]
  },
  {
   "cell_type": "code",
   "execution_count": 26,
   "metadata": {},
   "outputs": [
    {
     "name": "stdout",
     "output_type": "stream",
     "text": [
      "[[6 6 6 6]\n",
      " [6 6 6 6]\n",
      " [6 6 6 6]]\n"
     ]
    }
   ],
   "source": [
    "with tf.Session() as sess:\n",
    "    fill_tsr = tf.fill((3,4),6)     # 这里指定纬度，使用[]和（）都可以   \n",
    "    print(sess.run(fill_tsr))"
   ]
  },
  {
   "cell_type": "markdown",
   "metadata": {},
   "source": [
    "#### 1.1.4 使用已经存在常数张量创建张量"
   ]
  },
  {
   "cell_type": "code",
   "execution_count": 27,
   "metadata": {},
   "outputs": [
    {
     "name": "stdout",
     "output_type": "stream",
     "text": [
      "[[2 3]\n",
      " [5 6]\n",
      " [6 7]]\n"
     ]
    }
   ],
   "source": [
    "with tf.Session() as sess:\n",
    "    constant_tsr = tf.constant([[2,3],[5,6],[6,7]])\n",
    "    print(constant_tsr.eval())"
   ]
  },
  {
   "cell_type": "markdown",
   "metadata": {},
   "source": [
    "#### 1.1.5 创建相同纬度张量"
   ]
  },
  {
   "cell_type": "code",
   "execution_count": 28,
   "metadata": {},
   "outputs": [
    {
     "name": "stdout",
     "output_type": "stream",
     "text": [
      "[[0 0]\n",
      " [0 0]\n",
      " [0 0]]\n",
      "[[1 1]\n",
      " [1 1]\n",
      " [1 1]]\n"
     ]
    }
   ],
   "source": [
    "with tf.Session() as sess:\n",
    "    zeros_tsr = tf.zeros_like(constant_tsr)     # 创建一个全0 的与contant_tsr相同维度的张量\n",
    "    ones_tsr = tf.ones_like(constant_tsr)       # 创建一个全1 的与contant_tsr相同维度的张量\n",
    "    print(sess.run(zeros_tsr))\n",
    "    print(sess.run(ones_tsr))"
   ]
  },
  {
   "cell_type": "markdown",
   "metadata": {},
   "source": [
    "#### 1.1.6 创建指定数据间隔的张量  \n",
    " - linspace()包含两个端点 且端点值只支持浮点型，range()不含右端点"
   ]
  },
  {
   "cell_type": "code",
   "execution_count": 29,
   "metadata": {},
   "outputs": [
    {
     "name": "stdout",
     "output_type": "stream",
     "text": [
      "[0.  0.5 1. ]\n",
      "[ 6  9 12]\n"
     ]
    }
   ],
   "source": [
    "with tf.Session() as sess:\n",
    "    linear_tsr = tf.linspace(start=0.,stop=1.,num = 3,name= 'linear_tsr')     #在tensorflow中创建变量，张量，占位等等\n",
    "    print(sess.run(linear_tsr))                                               #最好赋上name属性，在后期查看数据流图有大用\n",
    "    integer_seq_tsr = tf.range(start = 6,limit=15,delta = 3,name='integer_seq_tsr')    \n",
    "    print(sess.run(integer_seq_tsr))"
   ]
  },
  {
   "cell_type": "markdown",
   "metadata": {},
   "source": [
    "#### 1.1.7 创建随机数字填充的张量"
   ]
  },
  {
   "cell_type": "code",
   "execution_count": 30,
   "metadata": {},
   "outputs": [
    {
     "name": "stdout",
     "output_type": "stream",
     "text": [
      "random_uniform : \n",
      " [[1.0805242 2.333758  1.1188254]\n",
      " [1.7169831 1.2087724 1.8672522]\n",
      " [2.7532916 3.6006591 1.303508 ]]\n",
      "random_normal :\n",
      " [[ 0.83674216 -2.438648   -1.0997727 ]\n",
      " [ 0.33756706 -0.87223226 -0.89993393]\n",
      " [ 0.29276317  1.6871233   0.37553707]]\n",
      "truncated_normal : \n",
      " [[ 1.855992    0.15591487 -0.6816975 ]\n",
      " [ 0.37770027  0.55645454 -1.0932926 ]\n",
      " [-0.10387793  0.8150552   0.92693335]]\n"
     ]
    }
   ],
   "source": [
    "with tf.Session() as sess:\n",
    "    #用random_uniform()生成均匀分布随机数\n",
    "    randunif_tsr = tf.random_uniform([3,3],minval = 1,maxval = 4 ,name='randunif_tsr')\n",
    "     #用random_normal()生成正太分布随机数 mean:平均值，stddev:标准差\n",
    "    randnorm_tsr = tf.random_normal([3,3],mean = 0.0,stddev=1.0,name='randnorm_tsr')\n",
    "       #truncated_normal()生成指定边界的正态分布的随机数  边界：期望到两个标准差之间的区间\n",
    "    runcnorm_tsr = tf.truncated_normal([3,3],mean=0.0,stddev=1.0,name='runcnorm_tsr')\n",
    "    print('random_uniform : \\n',randunif_tsr.eval())\n",
    "    print('random_normal :\\n',randnorm_tsr.eval())\n",
    "    print('truncated_normal : \\n',runcnorm_tsr.eval())"
   ]
  },
  {
   "cell_type": "markdown",
   "metadata": {},
   "source": [
    "#### 1.1.8 获得一个失序的张量  \n",
    " - 仅仅是对最低纬度的顺序进行乱序重排，例如一个一维，则是对里面元素的重排，如果是二维，则是对行元素的重排"
   ]
  },
  {
   "cell_type": "code",
   "execution_count": 31,
   "metadata": {},
   "outputs": [
    {
     "name": "stdout",
     "output_type": "stream",
     "text": [
      "[[ 2  3  4  9]\n",
      " [ 5  6  7  8]\n",
      " [11 12 13 14]]\n",
      "多维原始：\n",
      " [[ 2  3  4  9]\n",
      " [ 5  6  7  8]\n",
      " [11 12 13 14]]\n",
      "多维打乱：\n",
      " [[11 12 13 14]\n",
      " [ 5  6  7  8]\n",
      " [ 2  3  4  9]]\n",
      "一维原始： [1 2 3 4 5]\n",
      "一维打乱： [5 1 2 3 4]\n"
     ]
    }
   ],
   "source": [
    "with tf.Session() as sess:\n",
    "    demo1_tsr = tf.constant([1,2,3,4,5])\n",
    "    demo_tsr = tf.constant([[2,3,4,9],[5,6,7,8],[11,12,13,14]])       # 生成一个测试张量\n",
    "    print(sess.run(demo_tsr))\n",
    "    shuffled_output = tf.random_shuffle(demo_tsr)                     # 失序\n",
    "    shuffled1_output = tf.random_shuffle(demo1_tsr)\n",
    "    print('多维原始：\\n',sess.run(demo_tsr))\n",
    "    print('多维打乱：\\n',sess.run(shuffled_output))\n",
    "    print('一维原始：',sess.run(demo1_tsr))\n",
    "    print('一维打乱：',sess.run(shuffled1_output))"
   ]
  },
  {
   "cell_type": "markdown",
   "metadata": {},
   "source": [
    "#### 1.1.9 随机裁剪指定纬度的元素"
   ]
  },
  {
   "cell_type": "code",
   "execution_count": 32,
   "metadata": {},
   "outputs": [
    {
     "name": "stdout",
     "output_type": "stream",
     "text": [
      "[[ 0  1  2  3]\n",
      " [ 4  5  6  7]\n",
      " [ 8  9 10 11]]\n",
      "[[ 5  6]\n",
      " [ 9 10]]\n"
     ]
    }
   ],
   "source": [
    "with tf.Session() as sess:\n",
    "    demo_tsr = tf.constant(np.arange(12).reshape([3,4]))         # 生成一个测试张量\n",
    "    croped_output = tf.random_crop(demo_tsr,[2,2])              # 裁剪\n",
    "    print(sess.run(demo_tsr))\n",
    "    print(sess.run(croped_output))"
   ]
  },
  {
   "cell_type": "markdown",
   "metadata": {},
   "source": [
    "### 1.2 转化为张量"
   ]
  },
  {
   "cell_type": "markdown",
   "metadata": {},
   "source": [
    "#### 1.2.1 numpy数组转化为张量  \n",
    "- 除了可以在创建张量时用numpy数组直接赋值，还可以使用convert_to_tensor,将numpy数组转化为张量  \n",
    "- 列表也是可以转化的"
   ]
  },
  {
   "cell_type": "code",
   "execution_count": 33,
   "metadata": {},
   "outputs": [
    {
     "name": "stdout",
     "output_type": "stream",
     "text": [
      "<class 'numpy.ndarray'>\n",
      "<class 'tensorflow.python.framework.ops.Tensor'>\n"
     ]
    }
   ],
   "source": [
    "with tf.Session() as sess:\n",
    "    arr_np = np.arange(12).reshape((3,4))            #  创建一个numpy数组\n",
    "    print(type(arr_np))\n",
    "    arr_tsr = tf.convert_to_tensor(arr_np)\n",
    "    print(type(arr_tsr))"
   ]
  },
  {
   "cell_type": "markdown",
   "metadata": {},
   "source": [
    "## 2、tensorflow 基本概念"
   ]
  },
  {
   "cell_type": "markdown",
   "metadata": {},
   "source": [
    "### 2.1 变量 (Variable)\n",
    "- 创建Variable，需将一个tensor传递给Variable()构造函数\n",
    "- 需要指定tensor的shape，最好为name 属性赋上值"
   ]
  },
  {
   "cell_type": "code",
   "execution_count": 34,
   "metadata": {},
   "outputs": [
    {
     "name": "stdout",
     "output_type": "stream",
     "text": [
      "[[0. 0. 0.]\n",
      " [0. 0. 0.]\n",
      " [0. 0. 0.]]\n"
     ]
    }
   ],
   "source": [
    "with tf.Session() as sess:\n",
    "    demo_variable = tf.Variable(tf.zeros([3,3]),name='demo')\n",
    "    #sess.run(demo_variable.initializer)      # 初始化变量，这是初始化这一个变量，\n",
    "    sess.run(tf.global_variables_initializer())    #还可以一次性初始化全部变量\n",
    "    print(sess.run(demo_variable))"
   ]
  },
  {
   "cell_type": "markdown",
   "metadata": {},
   "source": [
    "- 变量赋值  \n",
    "tensorflow中使用assign为变量赋值\n",
    "       "
   ]
  },
  {
   "cell_type": "code",
   "execution_count": 35,
   "metadata": {},
   "outputs": [
    {
     "name": "stdout",
     "output_type": "stream",
     "text": [
      "2.5454164\n",
      "4.0\n",
      "4.0\n"
     ]
    }
   ],
   "source": [
    "with tf.Session() as sess:\n",
    "    demo_variable = tf.Variable(tf.random_normal(shape=[]),dtype=tf.float32,name = 'demo_variable')  # 创建一个变量，随机为其赋值\n",
    "    sess.run(tf.global_variables_initializer())   #初始化变量\n",
    "    print(sess.run(demo_variable))\n",
    "    demo_variable = demo_variable.assign(4)    # 为变量赋值\n",
    "    print(demo_variable.eval())\n",
    "    sess.run(demo_variable)\n",
    "    print(demo_variable.eval())"
   ]
  },
  {
   "cell_type": "markdown",
   "metadata": {},
   "source": [
    "### 2.2 占位 （paceholder）  \n",
    "- 数据的入口  \n",
    "- 需要指定数据类型和数据的结构\n",
    "- session运行中为其提供数据，数据通过这里进入模型"
   ]
  },
  {
   "cell_type": "code",
   "execution_count": 36,
   "metadata": {},
   "outputs": [
    {
     "name": "stdout",
     "output_type": "stream",
     "text": [
      "[[0.47242254 0.9496363 ]\n",
      " [0.51543194 0.02687374]]\n"
     ]
    }
   ],
   "source": [
    "with tf.Session() as sess:\n",
    "  \n",
    "    demo_place = tf.placeholder(shape=[2,2],dtype=tf.float32,name='demo_place') # 这里需要指定shape和数据类型和name\n",
    "    y = tf.identity(demo_place)  #y = x\n",
    "    x_vals = np.random.rand(2,2)\n",
    "    print(sess.run(y,feed_dict={demo_place:x_vals}))"
   ]
  },
  {
   "cell_type": "markdown",
   "metadata": {},
   "source": [
    "### 2.3 图 （graph）  \n",
    "- tensorflow是基于数据流图的，tensorflow程序通常被组织成一个图的构建和图的执行阶段\n",
    "- 程序中存在一个默认图，也可以显示声明图"
   ]
  },
  {
   "cell_type": "code",
   "execution_count": 37,
   "metadata": {},
   "outputs": [
    {
     "name": "stdout",
     "output_type": "stream",
     "text": [
      "<tensorflow.python.framework.ops.Graph object at 0x0000000010BA0048>\n",
      "<tensorflow.python.framework.ops.Graph object at 0x0000000010BA01D0>\n",
      "<tensorflow.python.framework.ops.Graph object at 0x0000000010A87F28>\n"
     ]
    }
   ],
   "source": [
    "g1 = tf.Graph()       # 显示创建一个图\n",
    "print(g1)    \n",
    "g2 = tf.Graph()      # 创建另一个图\n",
    "print(g2)\n",
    "print(tf.get_default_graph())    # 获取默认图，创建图，对默认图并没有影响\n"
   ]
  },
  {
   "cell_type": "markdown",
   "metadata": {},
   "source": [
    "- 操作  \n",
    "数据的操作被局限在一个图中"
   ]
  },
  {
   "cell_type": "code",
   "execution_count": 38,
   "metadata": {},
   "outputs": [
    {
     "name": "stdout",
     "output_type": "stream",
     "text": [
      "30\n",
      "30\n",
      "9\n",
      "9\n"
     ]
    }
   ],
   "source": [
    "# 定义一个图\n",
    "g1 = tf.Graph()\n",
    "g2 = tf.Graph()\n",
    "\n",
    "#将图1设置为默认图，则在下面的with语句块中，所做操作为在图1 中的操作\n",
    "with g1.as_default():\n",
    "    a = tf.constant(10,name='a')\n",
    "    b = tf.constant(20,name='b')\n",
    "    c = tf.add(a,b,name='c')\n",
    "# 图2\n",
    "with g2.as_default():\n",
    "    a = tf.constant(5,name='a')\n",
    "    b = tf.constant(4,name='b')\n",
    "    d = tf.add(a,b,name='d')\n",
    "# 为session指定图\n",
    "with tf.Session(graph=g1) as sess:\n",
    "    print(sess.run(c))\n",
    "    print(c.eval())\n",
    "\n",
    "with tf.Session(graph=g2) as sess:\n",
    "    print(sess.run(d))\n",
    "    print(d.eval())"
   ]
  },
  {
   "cell_type": "markdown",
   "metadata": {},
   "source": [
    "### 2.4 会话 （session）  \n",
    "- 会话持有并管理tensorflow程序运行时的所有资源，一切计算都是在会话的基础上\n",
    "- 会话管理两种方式：\n",
    "  -- 明确的调用会话的生成函数和关闭会话函数\n",
    "  -- 上下文管理机制自动释放所有资源\n"
   ]
  },
  {
   "cell_type": "code",
   "execution_count": 40,
   "metadata": {},
   "outputs": [],
   "source": [
    "#第一种\n",
    "sess = tf.Session()  # 创建一个会话\n",
    "\n",
    "#...执行操作  \n",
    "sess.close()       # 关闭会话"
   ]
  },
  {
   "cell_type": "code",
   "execution_count": null,
   "metadata": {},
   "outputs": [],
   "source": [
    "# 第二种  不再需要关闭会话\n",
    "with tf.Session() as sess:\n",
    "    sess.run(...)"
   ]
  },
  {
   "cell_type": "markdown",
   "metadata": {},
   "source": [
    "**图（graph）与会话（session）的关系**\n",
    " - 一个图可以对应多个会话\n",
    " - 一个会话只能对应一个图\n"
   ]
  },
  {
   "cell_type": "code",
   "execution_count": null,
   "metadata": {},
   "outputs": [],
   "source": [
    "# 定义两个图\n",
    "g1 = tf.Graph()\n",
    "g2 = tf.Graph()\n",
    "# 创建两个会话，并同时绑定到图1\n",
    "sess1 = tf.Session(graph=g1)\n",
    "sess2 = tf.Session(graph=g1)\n",
    "#将图1设置为默认图，则在下面的with语句块中，所做操作为在图1 中的操作\n",
    "with g1.as_default():\n",
    "    a = tf.constant(10,name='a')\n",
    "    b = tf.constant(20,name='b')\n",
    "    c = tf.add(a,b,name='c')\n",
    "# 图2\n",
    "with g2.as_default():\n",
    "    a = tf.constant(5,name='a')\n",
    "    b = tf.constant(4,name='b')\n",
    "    d = tf.add(a,b,name='d')\n",
    "print(sess1.run(c))\n",
    "print(sess2.run(c))"
   ]
  },
  {
   "cell_type": "markdown",
   "metadata": {},
   "source": [
    "## 3、矩阵操作"
   ]
  },
  {
   "cell_type": "markdown",
   "metadata": {},
   "source": [
    "### 3.1 创建矩阵"
   ]
  },
  {
   "cell_type": "code",
   "execution_count": 43,
   "metadata": {},
   "outputs": [
    {
     "name": "stdout",
     "output_type": "stream",
     "text": [
      "[[1. 0. 0.]\n",
      " [0. 1. 0.]\n",
      " [0. 0. 1.]]\n",
      "[[ 1.  2.  3.]\n",
      " [-3. -7. -1.]\n",
      " [ 0.  5. -2.]]\n",
      "[[0.23042488 0.7657758 ]\n",
      " [0.59406054 0.11814272]\n",
      " [0.23761857 0.61780965]]\n",
      "[[0.25462687 0.6476102 ]\n",
      " [0.61103415 0.4994787 ]\n",
      " [0.4072609  0.22451723]]\n"
     ]
    }
   ],
   "source": [
    "with tf.Session() as sess:\n",
    "    identity_matrix = tf.diag([1.0,1.0,1.0])   #创建对角阵\n",
    "    A = tf.fill([2,3],5.0)\n",
    "    B = tf.random_uniform([3,2])\n",
    "    C = tf.convert_to_tensor(np.array([[1.,2.,3.],[-3.,-7.,-1.],[0.,5.,-2.]]))\n",
    "    print(sess.run(identity_matrix))\n",
    "    print(sess.run(C))\n",
    "    print(sess.run(B))\n",
    "    print(sess.run(B))    # 注意这里两次sess.run(B)获得结果是不同的。"
   ]
  },
  {
   "cell_type": "markdown",
   "metadata": {},
   "source": [
    "### 3.2 矩阵加减法"
   ]
  },
  {
   "cell_type": "code",
   "execution_count": 51,
   "metadata": {},
   "outputs": [
    {
     "name": "stdout",
     "output_type": "stream",
     "text": [
      "[[5.7996874 5.2189727]\n",
      " [5.438745  5.2300696]\n",
      " [5.566868  5.526987 ]]\n",
      "[[5.7563243 5.031307 ]\n",
      " [5.1820207 5.3876553]\n",
      " [5.6516333 5.641203 ]]\n",
      "[[4.1695356 4.3693438]\n",
      " [4.9801598 4.3666315]\n",
      " [4.0942354 4.4548397]]\n",
      "[[4.8159823 4.676738 ]\n",
      " [4.3033953 4.47019  ]\n",
      " [4.160121  4.1772866]]\n"
     ]
    }
   ],
   "source": [
    "with tf.Session() as sess:\n",
    "    A = tf.fill([3,2],5.0)\n",
    "    B = tf.random_uniform([3,2])\n",
    "    C = tf.fill([2,3],2.)\n",
    "    print(sess.run(A+B))\n",
    "    print(sess.run(tf.add(A,B)))  # 矩阵加法\n",
    "    print(sess.run(tf.subtract(A,B)))    # 矩阵减法  \n",
    "    print(sess.run(A-B))      # 这里答案不同的原因是B 为随机矩阵。两次run（）获得不同的数据"
   ]
  },
  {
   "cell_type": "markdown",
   "metadata": {},
   "source": [
    "### 3.3 矩阵乘法"
   ]
  },
  {
   "cell_type": "code",
   "execution_count": 59,
   "metadata": {},
   "outputs": [
    {
     "name": "stdout",
     "output_type": "stream",
     "text": [
      "[[4. 4. 4.]\n",
      " [4. 4. 4.]]\n",
      "[[2.5936303  2.5936303  2.5936303 ]\n",
      " [1.7591312  1.7591312  1.7591312 ]\n",
      " [0.99340224 0.99340224 0.99340224]]\n"
     ]
    }
   ],
   "source": [
    "sess = tf.Session()\n",
    "A = tf.fill([3,2],5.0)\n",
    "B = tf.random_uniform([3,2])\n",
    "C = tf.fill([2,3],2.)\n",
    "print(sess.run(C*C))     # 两个矩阵对应元素相乘\n",
    "print(sess.run(tf.matmul(B,C)))   # 矩阵乘法"
   ]
  },
  {
   "cell_type": "markdown",
   "metadata": {},
   "source": [
    "### 3.4矩阵转置"
   ]
  },
  {
   "cell_type": "code",
   "execution_count": 60,
   "metadata": {},
   "outputs": [
    {
     "name": "stdout",
     "output_type": "stream",
     "text": [
      "[[5. 5.]\n",
      " [5. 5.]\n",
      " [5. 5.]]\n",
      "[[5. 5. 5.]\n",
      " [5. 5. 5.]]\n"
     ]
    }
   ],
   "source": [
    "print(sess.run(A))\n",
    "print(sess.run(tf.transpose(A)))"
   ]
  },
  {
   "cell_type": "markdown",
   "metadata": {},
   "source": [
    "### 3.5 计算矩阵的行列式"
   ]
  },
  {
   "cell_type": "code",
   "execution_count": 62,
   "metadata": {},
   "outputs": [
    {
     "name": "stdout",
     "output_type": "stream",
     "text": [
      "0.0\n"
     ]
    }
   ],
   "source": [
    "D = tf.matmul(B,C)\n",
    "print(sess.run(tf.matrix_determinant(D)))   #计算D的行列式"
   ]
  },
  {
   "cell_type": "markdown",
   "metadata": {},
   "source": [
    "### 3.6计算矩阵的逆"
   ]
  },
  {
   "cell_type": "code",
   "execution_count": 66,
   "metadata": {},
   "outputs": [
    {
     "name": "stdout",
     "output_type": "stream",
     "text": [
      "[[-0.5        -0.5        -0.5       ]\n",
      " [ 0.15789474  0.05263158  0.21052632]\n",
      " [ 0.39473684  0.13157895  0.02631579]]\n"
     ]
    }
   ],
   "source": [
    "E = tf.convert_to_tensor(np.array([[1.,2.,3.],[-3.,-7.,-1.],[0.,5.,-2.]]))\n",
    "print(sess.run(tf.matrix_inverse(E)))"
   ]
  },
  {
   "cell_type": "markdown",
   "metadata": {},
   "source": [
    "### 3.7 矩阵的特征值和特征向量"
   ]
  },
  {
   "cell_type": "code",
   "execution_count": 67,
   "metadata": {},
   "outputs": [
    {
     "name": "stdout",
     "output_type": "stream",
     "text": [
      "(array([-10.65907521,  -0.22750691,   2.88658212]), array([[ 0.21749542,  0.63250104, -0.74339638],\n",
      "       [ 0.84526515,  0.2587998 ,  0.46749277],\n",
      "       [-0.4880805 ,  0.73004459,  0.47834331]]))\n"
     ]
    }
   ],
   "source": [
    "print(sess.run(tf.self_adjoint_eig(E)))"
   ]
  },
  {
   "cell_type": "markdown",
   "metadata": {},
   "source": [
    "## 4、基本步骤"
   ]
  },
  {
   "cell_type": "markdown",
   "metadata": {},
   "source": [
    "- import or generate datasets  \n",
    "- transform and normalize data\n",
    "- partition datasets into train ,test , and validation sets\n",
    "- set algorithm parameters(hyperparameters)\n",
    "- initialize variables and placeholders\n",
    "- define the model structure\n",
    "- declare the loss functions\n",
    "- initialize and train the model\n",
    "- evaluate the model\n",
    "- tune hyperparameters\n",
    "- deploy/predict new outcomes"
   ]
  },
  {
   "cell_type": "code",
   "execution_count": null,
   "metadata": {},
   "outputs": [],
   "source": []
  }
 ],
 "metadata": {
  "kernelspec": {
   "display_name": "Python 3",
   "language": "python",
   "name": "python3"
  },
  "language_info": {
   "codemirror_mode": {
    "name": "ipython",
    "version": 3
   },
   "file_extension": ".py",
   "mimetype": "text/x-python",
   "name": "python",
   "nbconvert_exporter": "python",
   "pygments_lexer": "ipython3",
   "version": "3.6.4"
  }
 },
 "nbformat": 4,
 "nbformat_minor": 2
}
